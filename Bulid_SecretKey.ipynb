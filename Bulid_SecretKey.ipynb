{
 "cells": [
  {
   "cell_type": "code",
   "execution_count": 21,
   "metadata": {
    "scrolled": true
   },
   "outputs": [
    {
     "name": "stdout",
     "output_type": "stream",
     "text": [
      "ynrvhnqqeatwwpon\n",
      "b'VMmOSmiQTvxGixcEJefJbCoYl8q3xMeE1c6ULTmF9dAB3YozglX5sTEKvn6SJgXNm0JHaD3U26gW5ZKiID1K0AgF5nxO80WMQ5vkTmBZUxUhTERXqQ6cbJfcMkfvXMhPRkz6XtDpOxESFh2mUNxzpg==\\n'\n"
     ]
    }
   ],
   "source": [
    "import datetime\n",
    "from BuildKey import GetKey\n",
    "from MyCryptoAMSlicer import PrpCrypt\n",
    "arr1=[68002, 9786, 970, 453, 5, 789, 3426, 90876, 21, 4563, 2965, 432, 34, 845, 395, 434]\n",
    "arr2=[976, 902, 238, 5432, 754, 70, 32, 72, 214, 9029, 341, 3453, 322, 6377, 222, 3075]\n",
    "arr3=[ 432, 65, 7658, 261, 8276, 144, 11, 9804, 230, 643, 473, 2287, 432, 7978, 484, 353]\n",
    "arr4=[21, 79, 6, 56, 200, 65, 102, 4, 655, 4444, 8098, 65323, 643, 1111, 378, 63]\n",
    "arr_final=[658, 221, 23522, 4, 4346, 6, 7, 1459, 9, 10, 10011, 7910, 13, 312, 52789, 646]\n",
    "def authorization(serialnumber,days1):\n",
    "    if len(serialnumber.strip())!=39:\n",
    "        return -1#序列号长度有误\n",
    "    tmp_serialnumber=serialnumber.replace('-','')\n",
    "    serialnumber1=tmp_serialnumber[0:8]\n",
    "    serialnumber2=tmp_serialnumber[8:16]\n",
    "    serialnumber3=tmp_serialnumber[16:24]\n",
    "    serialnumber4=tmp_serialnumber[24:32]\n",
    "    \n",
    "    key1=GetKey(arr1).key\n",
    "    key2=GetKey(arr2).key\n",
    "    key3=GetKey(arr3).key\n",
    "    key4=GetKey(arr4).key\n",
    "    key_final=GetKey(arr_final).key\n",
    "   \n",
    "    enserialnumber1=PrpCrypt(key1).encrypt(serialnumber1)\n",
    "    enserialnumber2=PrpCrypt(key2).encrypt(serialnumber2)\n",
    "    enserialnumber3=PrpCrypt(key3).encrypt(serialnumber3)\n",
    "    enserialnumber4=PrpCrypt(key4).encrypt(serialnumber4)\n",
    "    \n",
    "    year=datetime.datetime.now().year\n",
    "    month=datetime.datetime.now().month\n",
    "    day=datetime.datetime.now().day\n",
    "    newyear=(datetime.datetime(year,month,day)+datetime.timedelta(days=days1)).year\n",
    "    newmonth=(datetime.datetime(year,month,day)+datetime.timedelta(days=days1)).month\n",
    "    newday=(datetime.datetime(year,month,day)+datetime.timedelta(days=days1)).day\n",
    "    \n",
    "    beforeAes=str(enserialnumber3,encoding='utf-8')+str(newday)+str(enserialnumber2,encoding='utf-8')+str(enserialnumber4,encoding='utf-8')+str(newyear)[2:4]+tohex(newmonth)+str(enserialnumber1,encoding='utf-8')\n",
    "    w=beforeAes.replace(\"\\n\",\"\")\n",
    "    print(key_final)\n",
    "    return PrpCrypt(key_final).encrypt(w)\n",
    "    \n",
    "def authorization_days(days1):\n",
    "    year=datetime.datetime.now().year\n",
    "    month=datetime.datetime.now().month\n",
    "    day=datetime.datetime.now().day\n",
    "    newyear=(datetime.datetime(year,month,day)+datetime.timedelta(days=days1)).year\n",
    "    newmonth=(datetime.datetime(year,month,day)+datetime.timedelta(days=days1)).month\n",
    "    newday=(datetime.datetime(year,month,day)+datetime.timedelta(days=days1)).day\n",
    "def tohex(be):\n",
    "    tmp=\"\"\n",
    "    if be==10:\n",
    "        tmp=\"A\"\n",
    "    elif be==11:\n",
    "        tmp=\"B\"\n",
    "    elif be==12:\n",
    "        tmp='C'\n",
    "    else:\n",
    "        tmp=str(be)\n",
    "    return tmp\n",
    "if __name__=='__main__':\n",
    "    a=authorization(\"e4be-74e4-3029-0f40-fb40-9b13-f4e0-9ccf\",290)\n",
    "    print(a)\n",
    "\n"
   ]
  },
  {
   "cell_type": "code",
   "execution_count": null,
   "metadata": {},
   "outputs": [],
   "source": [
    "dir(datetime.datetime.now)"
   ]
  },
  {
   "cell_type": "code",
   "execution_count": null,
   "metadata": {},
   "outputs": [],
   "source": []
  }
 ],
 "metadata": {
  "kernelspec": {
   "display_name": "Python 3",
   "language": "python",
   "name": "python3"
  },
  "language_info": {
   "codemirror_mode": {
    "name": "ipython",
    "version": 3
   },
   "file_extension": ".py",
   "mimetype": "text/x-python",
   "name": "python",
   "nbconvert_exporter": "python",
   "pygments_lexer": "ipython3",
   "version": "3.6.5"
  }
 },
 "nbformat": 4,
 "nbformat_minor": 2
}

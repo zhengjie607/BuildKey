{
 "cells": [
  {
   "cell_type": "code",
   "execution_count": 1,
   "metadata": {},
   "outputs": [
    {
     "name": "stdout",
     "output_type": "stream",
     "text": [
      "idfiayptothqzfmg\n"
     ]
    }
   ],
   "source": [
    "class GetKey():\n",
    "    def __init__(self,arraynum):\n",
    "        self.key=''\n",
    "        if self.readkeybook()==-1:\n",
    "            self.key+=\"Open keybook Error! Please retry!\"\n",
    "        if len(arraynum)!=16:\n",
    "            key+=\"arr length Error! Please retry!\"\n",
    "        for i in arraynum:\n",
    "            self.key+=self.keybook[i]\n",
    "    def readkeybook(self):\n",
    "        a=-1\n",
    "        try:\n",
    "            f=open(\"Seck.xjgcb\",\"r\")\n",
    "            a=1\n",
    "        except:\n",
    "            a=-1\n",
    "            return a\n",
    "        self.keybook=f.read()\n",
    "        f.close()\n",
    "        return a\n"
   ]
  },
  {
   "cell_type": "code",
   "execution_count": null,
   "metadata": {},
   "outputs": [],
   "source": []
  }
 ],
 "metadata": {
  "kernelspec": {
   "display_name": "Python 3",
   "language": "python",
   "name": "python3"
  },
  "language_info": {
   "codemirror_mode": {
    "name": "ipython",
    "version": 3
   },
   "file_extension": ".py",
   "mimetype": "text/x-python",
   "name": "python",
   "nbconvert_exporter": "python",
   "pygments_lexer": "ipython3",
   "version": "3.6.5"
  }
 },
 "nbformat": 4,
 "nbformat_minor": 2
}
